{
 "cells": [
  {
   "cell_type": "markdown",
   "metadata": {},
   "source": [
    "# Wildfire Spread & Wind Simulation\n",
    "\n",
    "This notebook demonstrates a wildfire spread simulation with interactive controls.\n",
    "\n",
    "See [planning.md](../planning.md) for the full project plan."
   ]
  },
  {
   "cell_type": "code",
   "metadata": {},
   "source": [
    "import numpy as np\n",
    "from src.simulation import initialize_grid, ignite, CellState\n",
    "import matplotlib.pyplot as plt\n",
    "import ipywidgets as widgets"
   ]
  },
  {
   "cell_type": "markdown",
   "metadata": {},
   "source": [
    "## Initialize Simulation Grid"
   ]
  },
  {
   "cell_type": "code",
   "metadata": {},
   "source": [
    "shape = (50, 50)\n",
    "fuel_load = 1.0\n",
    "grid = initialize_grid(shape, fuel_load)\n",
    "ignite(grid, 25, 25, time=0)\n",
    "plt.imshow(grid['state'], cmap='hot')\n",
    "plt.title('Initial State')\n",
    "plt.colorbar()\n",
    "plt.show()"
   ]
  }
 ],
 "metadata": {
  "kernelspec": {
   "display_name": "Python 3",
   "language": "python",
   "name": "python3"
  },
  "language_info": {
   "name": "python",
   "version": "3.9"
  }
 },
 "nbformat": 4,
 "nbformat_minor": 2
}
